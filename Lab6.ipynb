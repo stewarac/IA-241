{
 "cells": [
  {
   "cell_type": "markdown",
   "metadata": {},
   "source": [
    "# Q1"
   ]
  },
  {
   "cell_type": "code",
   "execution_count": 12,
   "metadata": {},
   "outputs": [],
   "source": [
    "from urllib import request\n",
    "\n",
    "import json\n",
    "\n",
    "from pprint import pprint\n",
    "\n",
    "import xlwt"
   ]
  },
  {
   "cell_type": "markdown",
   "metadata": {},
   "source": [
    "# Q2"
   ]
  },
  {
   "cell_type": "code",
   "execution_count": 4,
   "metadata": {},
   "outputs": [],
   "source": [
    "census_api_key = '366e44e40e6c83965c0460cf618ca2f91ee0e45a'"
   ]
  },
  {
   "cell_type": "code",
   "execution_count": 5,
   "metadata": {},
   "outputs": [],
   "source": [
    "url_str = 'https://api.census.gov/data/2017/acs/acs5?get=B01001_001E,B01001_002E,NAME&for=county:*&in=state:51&key='+census_api_key"
   ]
  },
  {
   "cell_type": "code",
   "execution_count": 6,
   "metadata": {},
   "outputs": [],
   "source": [
    "response = request.urlopen(url_str)\n",
    "\n",
    "html_str = response.read().decode(\"utf-8\")"
   ]
  },
  {
   "cell_type": "code",
   "execution_count": 8,
   "metadata": {},
   "outputs": [
    {
     "name": "stdout",
     "output_type": "stream",
     "text": [
      "['B01001_001E', 'B01001_002E', 'NAME', 'state', 'county']\n",
      "['7022', '3437', 'Charles City County, Virginia', '51', '036']\n",
      "['49795', '25057', 'Culpeper County, Virginia', '51', '047']\n",
      "['28033', '13849', 'Dinwiddie County, Virginia', '51', '053']\n",
      "['19213', '9387', 'Greene County, Virginia', '51', '079']\n",
      "['103218', '50653', 'Hanover County, Virginia', '51', '085']\n",
      "['12369', '6367', 'Lunenburg County, Virginia', '51', '111']\n",
      "['35265', '17341', 'Orange County, Virginia', '51', '137']\n",
      "['5495', '2488', 'Emporia city, Virginia', '51', '595']\n",
      "['29048', '14200', 'Wythe County, Virginia', '51', '197']\n",
      "['235410', '114935', 'Chesapeake city, Virginia', '51', '550']\n",
      "['17582', '8108', 'Colonial Heights city, Virginia', '51', '570']\n",
      "['53064', '25414', 'Harrisonburg city, Virginia', '51', '660']\n",
      "['105105', '50283', 'Albemarle County, Virginia', '51', '003']\n",
      "['6524', '3617', 'Bland County, Virginia', '51', '021']\n",
      "['77319', '38012', 'Bedford County, Virginia', '51', '019']\n",
      "['33149', '16421', 'Botetourt County, Virginia', '51', '023']\n",
      "['17048', '9465', 'Buckingham County, Virginia', '51', '029']\n",
      "['39539', '20612', 'Wise County, Virginia', '51', '195']\n",
      "['17077', '7974', 'Bristol city, Virginia', '51', '520']\n",
      "['5675', '2876', 'Covington city, Virginia', '51', '580']\n",
      "['95536', '46070', 'Portsmouth city, Virginia', '51', '740']\n",
      "['14817', '6829', 'Williamsburg city, Virginia', '51', '830']\n",
      "['450057', '221350', 'Virginia Beach city, Virginia', '51', '810']\n",
      "['15489', '7586', 'Alleghany County, Virginia', '51', '005']\n",
      "['29767', '14993', 'Carroll County, Virginia', '51', '035']\n",
      "['6788', '3304', 'Galax city, Virginia', '51', '640']\n",
      "['54457', '26857', 'Washington County, Virginia', '51', '191']\n",
      "['17596', '8646', 'Westmoreland County, Virginia', '51', '193']\n",
      "['12254', '6051', 'Northumberland County, Virginia', '51', '133']\n",
      "['23694', '11638', 'Page County, Virginia', '51', '139']\n",
      "['34330', '17152', 'Pulaski County, Virginia', '51', '155']\n",
      "['38991', '19445', 'Warren County, Virginia', '51', '187']\n",
      "['154710', '74501', 'Alexandria city, Virginia', '51', '510']\n",
      "['41911', '19129', 'Danville city, Virginia', '51', '590']\n",
      "['28135', '12890', 'Fredericksburg city, Virginia', '51', '630']\n",
      "['136255', '65820', 'Hampton city, Virginia', '51', '650']\n",
      "['31819', '15331', 'Amherst County, Virginia', '51', '009']\n",
      "['229534', '114403', 'Arlington County, Virginia', '51', '013']\n",
      "['4458', '2311', 'Bath County, Virginia', '51', '017']\n",
      "['22353', '10342', 'Hopewell city, Virginia', '51', '670']\n",
      "['22611', '11378', 'Buchanan County, Virginia', '51', '027']\n",
      "['180775', '87598', 'Newport News city, Virginia', '51', '700']\n",
      "['83784', '41634', 'Frederick County, Virginia', '51', '069']\n",
      "['141159', '70984', 'Stafford County, Virginia', '51', '179']\n",
      "['79237', '37166', 'Lynchburg city, Virginia', '51', '680']\n",
      "['67196', '33024', 'York County, Virginia', '51', '199']\n",
      "['220892', '104853', 'Richmond city, Virginia', '51', '760']\n",
      "['13256', '6010', 'Martinsville city, Virginia', '51', '690']\n",
      "['14863', '7224', 'Nelson County, Virginia', '51', '125']\n",
      "['11083', '4899', 'Essex County, Virginia', '51', '057']\n",
      "['61970', '30372', 'Pittsylvania County, Virginia', '51', '143']\n",
      "['4043', '1694', 'Norton city, Virginia', '51', '720']\n",
      "['24273', '11130', 'Staunton city, Virginia', '51', '790']\n",
      "['26109', '11928', 'Fluvanna County, Virginia', '51', '065']\n",
      "['12802', '6644', 'Amelia County, Virginia', '51', '007']\n",
      "['17380', '8526', 'Radford city, Virginia', '51', '750']\n",
      "['27516', '13444', 'Winchester city, Virginia', '51', '840']\n",
      "['32840', '16079', 'Accomack County, Virginia', '51', '001']\n",
      "['5131', '2525', 'Craig County, Virginia', '51', '045']\n",
      "['15594', '7842', 'Floyd County, Virginia', '51', '063']\n",
      "['16867', '8273', 'Giles County, Virginia', '51', '071']\n",
      "['15708', '7875', 'Grayson County, Virginia', '51', '077']\n",
      "['15537', '8415', 'Nottoway County, Virginia', '51', '135']\n",
      "['7359', '3646', 'Rappahannock County, Virginia', '51', '157']\n",
      "['42689', '21055', 'Tazewell County, Virginia', '51', '185']\n",
      "['6495', '2945', 'Buena Vista city, Virginia', '51', '530']\n",
      "['13843', '6801', 'Falls Church city, Virginia', '51', '610']\n",
      "['16117', '8482', 'Manassas Park city, Virginia', '51', '685']\n",
      "['32037', '14703', 'Petersburg city, Virginia', '51', '730']\n",
      "['12022', '5864', 'Poquoson city, Virginia', '51', '735']\n",
      "['11595', '7552', 'Sussex County, Virginia', '51', '183']\n",
      "['23580', '11621', 'Fairfax city, Virginia', '51', '600']\n",
      "['21620', '10438', 'Waynesboro city, Virginia', '51', '820']\n",
      "['41379', '20675', 'Manassas city, Virginia', '51', '683']\n",
      "['99572', '47736', 'Roanoke city, Virginia', '51', '770']\n",
      "['25521', '11947', 'Salem city, Virginia', '51', '775']\n",
      "['88057', '42594', 'Suffolk city, Virginia', '51', '800']\n",
      "['245752', '128254', 'Norfolk city, Virginia', '51', '710']\n",
      "['12176', '5991', 'Charlotte County, Virginia', '51', '037']\n",
      "['335594', '161644', 'Chesterfield County, Virginia', '51', '041']\n",
      "['1142004', '565593', 'Fairfax County, Virginia', '51', '059']\n",
      "['11606', '7238', 'Greensville County, Virginia', '51', '081']\n",
      "['36090', '17651', 'Isle of Wight County, Virginia', '51', '093']\n",
      "['73028', '35265', 'James City County, Virginia', '51', '095']\n",
      "['27725', '13563', 'Russell County, Virginia', '51', '167']\n",
      "['8334', '3663', 'Franklin city, Virginia', '51', '620']\n",
      "['31298', '15386', 'Smyth County, Virginia', '51', '173']\n",
      "['46487', '22336', 'Charlottesville city, Virginia', '51', '540']\n",
      "['7113', '3982', 'Lexington city, Virginia', '51', '678']\n",
      "['55158', '26745', 'Campbell County, Virginia', '51', '031']\n",
      "['324073', '153299', 'Henrico County, Virginia', '51', '087']\n",
      "['51956', '25038', 'Henry County, Virginia', '51', '089']\n",
      "['25564', '12839', 'King George County, Virginia', '51', '099']\n",
      "['34813', '17007', 'Louisa County, Virginia', '51', '109']\n",
      "['16329', '8108', 'King William County, Virginia', '51', '101']\n",
      "['10848', '5013', 'Lancaster County, Virginia', '51', '103']\n",
      "['24428', '12792', 'Lee County, Virginia', '51', '105']\n",
      "['8830', '4229', 'Mathews County, Virginia', '51', '115']\n",
      "['10710', '5279', 'Middlesex County, Virginia', '51', '119']\n",
      "['22903', '11379', 'Prince Edward County, Virginia', '51', '147']\n",
      "['37704', '20643', 'Prince George County, Virginia', '51', '149']\n",
      "['8873', '4978', 'Richmond County, Virginia', '51', '159']\n",
      "['78653', '38485', 'Rockingham County, Virginia', '51', '165']\n",
      "['22290', '11191', 'Scott County, Virginia', '51', '169']\n",
      "['130159', '63945', 'Spotsylvania County, Virginia', '51', '177']\n",
      "['6670', '3213', 'Surry County, Virginia', '51', '181']\n",
      "['15462', '7507', 'Appomattox County, Virginia', '51', '011']\n",
      "['14331', '7195', 'Clarke County, Virginia', '51', '043']\n",
      "['56277', '27631', 'Franklin County, Virginia', '51', '067']\n",
      "['7052', '3524', 'King and Queen County, Virginia', '51', '097']\n",
      "['30959', '14944', 'Mecklenburg County, Virginia', '51', '117']\n",
      "['97692', '50448', 'Montgomery County, Virginia', '51', '121']\n",
      "['20523', '10309', 'New Kent County, Virginia', '51', '127']\n",
      "['74390', '37695', 'Augusta County, Virginia', '51', '015']\n",
      "['9797', '4830', 'Cumberland County, Virginia', '51', '049']\n",
      "['15181', '7720', 'Dickenson County, Virginia', '51', '051']\n",
      "['22148', '10897', 'Goochland County, Virginia', '51', '075']\n",
      "['35030', '16505', 'Halifax County, Virginia', '51', '083']\n",
      "['374558', '185575', 'Loudoun County, Virginia', '51', '107']\n",
      "['13108', '6369', 'Madison County, Virginia', '51', '113']\n",
      "['450763', '224843', 'Prince William County, Virginia', '51', '153']\n",
      "['93419', '44811', 'Roanoke County, Virginia', '51', '161']\n",
      "['18089', '9414', 'Southampton County, Virginia', '51', '175']\n",
      "['2213', '1020', 'Highland County, Virginia', '51', '091']\n",
      "['16435', '8557', 'Brunswick County, Virginia', '51', '025']\n",
      "['29889', '14807', 'Caroline County, Virginia', '51', '033']\n",
      "['37035', '18278', 'Gloucester County, Virginia', '51', '073']\n",
      "['11998', '5737', 'Northampton County, Virginia', '51', '131']\n",
      "['17958', '8867', 'Patrick County, Virginia', '51', '141']\n",
      "['28364', '15185', 'Powhatan County, Virginia', '51', '145']\n",
      "['22440', '11143', 'Rockbridge County, Virginia', '51', '163']\n",
      "['42854', '20850', 'Shenandoah County, Virginia', '51', '171']\n",
      "['68406', '33858', 'Fauquier County, Virginia', '51', '061']\n"
     ]
    }
   ],
   "source": [
    "if (html_str):\n",
    "    json_data = json.loads(html_str)\n",
    "    for record in json_data:\n",
    "        pprint(record)"
   ]
  },
  {
   "cell_type": "markdown",
   "metadata": {},
   "source": [
    "# Q3"
   ]
  },
  {
   "cell_type": "code",
   "execution_count": 11,
   "metadata": {},
   "outputs": [
    {
     "name": "stdout",
     "output_type": "stream",
     "text": [
      "B01001_001E B01001_002E\n",
      "7022 3437\n",
      "49795 25057\n",
      "28033 13849\n",
      "19213 9387\n",
      "103218 50653\n",
      "12369 6367\n",
      "35265 17341\n",
      "5495 2488\n",
      "29048 14200\n",
      "235410 114935\n",
      "17582 8108\n",
      "53064 25414\n",
      "105105 50283\n",
      "6524 3617\n",
      "77319 38012\n",
      "33149 16421\n",
      "17048 9465\n",
      "39539 20612\n",
      "17077 7974\n",
      "5675 2876\n",
      "95536 46070\n",
      "14817 6829\n",
      "450057 221350\n",
      "15489 7586\n",
      "29767 14993\n",
      "6788 3304\n",
      "54457 26857\n",
      "17596 8646\n",
      "12254 6051\n",
      "23694 11638\n",
      "34330 17152\n",
      "38991 19445\n",
      "154710 74501\n",
      "41911 19129\n",
      "28135 12890\n",
      "136255 65820\n",
      "31819 15331\n",
      "229534 114403\n",
      "4458 2311\n",
      "22353 10342\n",
      "22611 11378\n",
      "180775 87598\n",
      "83784 41634\n",
      "141159 70984\n",
      "79237 37166\n",
      "67196 33024\n",
      "220892 104853\n",
      "13256 6010\n",
      "14863 7224\n",
      "11083 4899\n",
      "61970 30372\n",
      "4043 1694\n",
      "24273 11130\n",
      "26109 11928\n",
      "12802 6644\n",
      "17380 8526\n",
      "27516 13444\n",
      "32840 16079\n",
      "5131 2525\n",
      "15594 7842\n",
      "16867 8273\n",
      "15708 7875\n",
      "15537 8415\n",
      "7359 3646\n",
      "42689 21055\n",
      "6495 2945\n",
      "13843 6801\n",
      "16117 8482\n",
      "32037 14703\n",
      "12022 5864\n",
      "11595 7552\n",
      "23580 11621\n",
      "21620 10438\n",
      "41379 20675\n",
      "99572 47736\n",
      "25521 11947\n",
      "88057 42594\n",
      "245752 128254\n",
      "12176 5991\n",
      "335594 161644\n",
      "1142004 565593\n",
      "11606 7238\n",
      "36090 17651\n",
      "73028 35265\n",
      "27725 13563\n",
      "8334 3663\n",
      "31298 15386\n",
      "46487 22336\n",
      "7113 3982\n",
      "55158 26745\n",
      "324073 153299\n",
      "51956 25038\n",
      "25564 12839\n",
      "34813 17007\n",
      "16329 8108\n",
      "10848 5013\n",
      "24428 12792\n",
      "8830 4229\n",
      "10710 5279\n",
      "22903 11379\n",
      "37704 20643\n",
      "8873 4978\n",
      "78653 38485\n",
      "22290 11191\n",
      "130159 63945\n",
      "6670 3213\n",
      "15462 7507\n",
      "14331 7195\n",
      "56277 27631\n",
      "7052 3524\n",
      "30959 14944\n",
      "97692 50448\n",
      "20523 10309\n",
      "74390 37695\n",
      "9797 4830\n",
      "15181 7720\n",
      "22148 10897\n",
      "35030 16505\n",
      "374558 185575\n",
      "13108 6369\n",
      "450763 224843\n",
      "93419 44811\n",
      "18089 9414\n",
      "2213 1020\n",
      "16435 8557\n",
      "29889 14807\n",
      "37035 18278\n",
      "11998 5737\n",
      "17958 8867\n",
      "28364 15185\n",
      "22440 11143\n",
      "42854 20850\n",
      "68406 33858\n"
     ]
    }
   ],
   "source": [
    "if (html_str):\n",
    "    json_data = json.loads(html_str)\n",
    "    for record in json_data:\n",
    "        total_pop, male_pop, name,state,count_num = record\n",
    "        print(total_pop, male_pop)"
   ]
  },
  {
   "cell_type": "code",
   "execution_count": 16,
   "metadata": {},
   "outputs": [],
   "source": [
    "book = xlwt.Workbook()\n",
    "\n",
    "sheet = book.add_sheet('va_pop')\n",
    "i=0\n",
    "if (html_str):\n",
    "    json_data = json.loads(html_str)\n",
    "    for record in json_data:\n",
    "        total_pop, male_pop, name,state,count_num = record\n",
    "        sheet.write(i,0,total_pop)\n",
    "        sheet.write(i,1,male_pop)\n",
    "        i += 1\n",
    "book.save('census.xls')"
   ]
  },
  {
   "cell_type": "markdown",
   "metadata": {},
   "source": [
    "# Q4"
   ]
  },
  {
   "cell_type": "code",
   "execution_count": 18,
   "metadata": {},
   "outputs": [],
   "source": [
    "book = xlrd.open_workbook('census.xls')"
   ]
  },
  {
   "cell_type": "code",
   "execution_count": 20,
   "metadata": {},
   "outputs": [],
   "source": [
    "sheet = book.sheet_by_name(\"va_pop\")"
   ]
  },
  {
   "cell_type": "code",
   "execution_count": 22,
   "metadata": {
    "scrolled": true
   },
   "outputs": [
    {
     "name": "stdout",
     "output_type": "stream",
     "text": [
      "B01001_001E B01001_002E\n",
      "7022 3437\n",
      "49795 25057\n",
      "28033 13849\n",
      "19213 9387\n",
      "103218 50653\n",
      "12369 6367\n",
      "35265 17341\n",
      "5495 2488\n",
      "29048 14200\n"
     ]
    }
   ],
   "source": [
    "for i in range(10):\n",
    "    row = sheet.row_values(i)\n",
    "    B01001_001E, B01001_002E = row\n",
    "    print(B01001_001E, B01001_002E)"
   ]
  },
  {
   "cell_type": "markdown",
   "metadata": {},
   "source": [
    "# Q5"
   ]
  },
  {
   "cell_type": "code",
   "execution_count": 1,
   "metadata": {},
   "outputs": [],
   "source": [
    "import xlrd"
   ]
  },
  {
   "cell_type": "code",
   "execution_count": 2,
   "metadata": {},
   "outputs": [],
   "source": [
    "book = xlrd.open_workbook('census.xls')"
   ]
  },
  {
   "cell_type": "code",
   "execution_count": 3,
   "metadata": {},
   "outputs": [],
   "source": [
    "sheet = book.sheet_by_name(\"va_pop\")"
   ]
  },
  {
   "cell_type": "code",
   "execution_count": 5,
   "metadata": {},
   "outputs": [],
   "source": [
    "from xlutils.copy import copy"
   ]
  },
  {
   "cell_type": "code",
   "execution_count": 15,
   "metadata": {},
   "outputs": [],
   "source": [
    "read_book = xlrd.open_workbook ('census.xls')\n",
    "my_sheet = read_book.sheet_by_name (\"va_pop\")\n",
    "num_rows = my_sheet.nrows\n",
    "write_book =copy(read_book)\n",
    "\n",
    "write_sheet = write_book.get_sheet(0)\n",
    "\n",
    "for i in range(num_rows):\n",
    "    row = my_sheet.row_values(i)\n",
    "    B01001_001E, B01001_002E, ratio = row\n",
    "    if i == 0:\n",
    "        write_sheet.write(i,2,'ratio')\n",
    "    else:\n",
    "        write_sheet.write(i,2, int(B01001_002E)/int(B01001_001E))\n",
    "    \n",
    "write_book.save('census.xls')"
   ]
  },
  {
   "cell_type": "markdown",
   "metadata": {},
   "source": [
    "# Q6"
   ]
  },
  {
   "cell_type": "code",
   "execution_count": 16,
   "metadata": {},
   "outputs": [],
   "source": [
    "book = xlrd.open_workbook('census.xls')"
   ]
  },
  {
   "cell_type": "code",
   "execution_count": 17,
   "metadata": {},
   "outputs": [],
   "source": [
    "sheet = book.sheet_by_name(\"va_pop\")"
   ]
  },
  {
   "cell_type": "code",
   "execution_count": 18,
   "metadata": {},
   "outputs": [
    {
     "name": "stdout",
     "output_type": "stream",
     "text": [
      "['B01001_001E', 'B01001_002E', 'ratio']\n",
      "['7022', '3437', 0.48946169182569066]\n",
      "['49795', '25057', 0.5032031328446631]\n",
      "['28033', '13849', 0.4940248992259123]\n",
      "['19213', '9387', 0.488575443709988]\n",
      "['103218', '50653', 0.49073804956499834]\n",
      "['12369', '6367', 0.5147546285067508]\n",
      "['35265', '17341', 0.49173401389479654]\n",
      "['5495', '2488', 0.45277525022747955]\n",
      "['29048', '14200', 0.488846047920683]\n"
     ]
    }
   ],
   "source": [
    "for i in range(10):\n",
    "    row = sheet.row_values(i)\n",
    "    ratio = row\n",
    "    print(ratio)"
   ]
  },
  {
   "cell_type": "code",
   "execution_count": null,
   "metadata": {},
   "outputs": [],
   "source": []
  }
 ],
 "metadata": {
  "kernelspec": {
   "display_name": "Python 3",
   "language": "python",
   "name": "python3"
  },
  "language_info": {
   "codemirror_mode": {
    "name": "ipython",
    "version": 3
   },
   "file_extension": ".py",
   "mimetype": "text/x-python",
   "name": "python",
   "nbconvert_exporter": "python",
   "pygments_lexer": "ipython3",
   "version": "3.6.5"
  }
 },
 "nbformat": 4,
 "nbformat_minor": 2
}
